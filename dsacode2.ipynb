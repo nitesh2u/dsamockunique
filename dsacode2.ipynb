{
 "cells": [
  {
   "cell_type": "code",
   "execution_count": 6,
   "id": "c61abe18-34f3-4c40-892a-0c78f990bb51",
   "metadata": {},
   "outputs": [
    {
     "name": "stdout",
     "output_type": "stream",
     "text": [
      "0\n",
      "2\n",
      "-1\n"
     ]
    }
   ],
   "source": [
    "def firstUniqChar(str):\n",
    "    \n",
    "    char_freq = {}\n",
    "\n",
    "    \n",
    "    for char in str:\n",
    "        char_freq[char] = char_freq.get(char, 0) + 1\n",
    "\n",
    "    \n",
    "    for i in range(len(str)):\n",
    "        if char_freq[str[i]] == 1:\n",
    "            return i\n",
    "\n",
    "    \n",
    "    return -1\n",
    "\n",
    "\n",
    "s1 = \"leetcode\"\n",
    "print(firstUniqChar(s1)) \n",
    "\n",
    "\n",
    "s2 = \"loveleetcode\"\n",
    "print(firstUniqChar(s2)) \n",
    "\n",
    "\n",
    "s3 = \"aabb\"\n",
    "print(firstUniqChar(s3))  \n"
   ]
  },
  {
   "cell_type": "code",
   "execution_count": null,
   "id": "8964c9c5-d1dc-4c58-9638-c497c4fc6ac4",
   "metadata": {},
   "outputs": [],
   "source": []
  }
 ],
 "metadata": {
  "kernelspec": {
   "display_name": "Python 3 (ipykernel)",
   "language": "python",
   "name": "python3"
  },
  "language_info": {
   "codemirror_mode": {
    "name": "ipython",
    "version": 3
   },
   "file_extension": ".py",
   "mimetype": "text/x-python",
   "name": "python",
   "nbconvert_exporter": "python",
   "pygments_lexer": "ipython3",
   "version": "3.10.8"
  }
 },
 "nbformat": 4,
 "nbformat_minor": 5
}
